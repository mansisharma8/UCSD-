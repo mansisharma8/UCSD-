{
 "cells": [
  {
   "cell_type": "code",
   "execution_count": 28,
   "id": "23366339",
   "metadata": {},
   "outputs": [
    {
     "name": "stdout",
     "output_type": "stream",
     "text": [
      "Requirement already satisfied: webdriver_manager in c:\\users\\mansi\\anaconda3\\envs\\project\\lib\\site-packages (3.7.1)\n",
      "Requirement already satisfied: python-dotenv in c:\\users\\mansi\\anaconda3\\envs\\project\\lib\\site-packages (from webdriver_manager) (0.20.0)\n",
      "Requirement already satisfied: requests in c:\\users\\mansi\\anaconda3\\envs\\project\\lib\\site-packages (from webdriver_manager) (2.25.1)\n",
      "Requirement already satisfied: chardet<5,>=3.0.2 in c:\\users\\mansi\\anaconda3\\envs\\project\\lib\\site-packages (from requests->webdriver_manager) (4.0.0)\n",
      "Requirement already satisfied: idna<3,>=2.5 in c:\\users\\mansi\\anaconda3\\envs\\project\\lib\\site-packages (from requests->webdriver_manager) (2.10)\n",
      "Requirement already satisfied: urllib3<1.27,>=1.21.1 in c:\\users\\mansi\\anaconda3\\envs\\project\\lib\\site-packages (from requests->webdriver_manager) (1.26.5)\n",
      "Requirement already satisfied: certifi>=2017.4.17 in c:\\users\\mansi\\anaconda3\\envs\\project\\lib\\site-packages (from requests->webdriver_manager) (2021.5.30)\n"
     ]
    }
   ],
   "source": [
    "import requests\n",
    "from bs4 import BeautifulSoup\n",
    "import csv\n",
    "from selenium import webdriver \n",
    "!pip install webdriver_manager\n",
    "from webdriver_manager.chrome import ChromeDriverManager\n",
    "from time import sleep \n",
    "from selenium.webdriver.chrome.options import Options\n",
    "import time\n",
    "import pandas as pd\n",
    "from lxml import etree"
   ]
  },
  {
   "cell_type": "code",
   "execution_count": 3,
   "id": "01b5df17",
   "metadata": {},
   "outputs": [
    {
     "name": "stdout",
     "output_type": "stream",
     "text": [
      "\n"
     ]
    },
    {
     "name": "stderr",
     "output_type": "stream",
     "text": [
      "[WDM] - ====== WebDriver manager ======\n",
      "[WDM] - Current google-chrome version is 108.0.5359\n",
      "[WDM] - Get LATEST chromedriver version for 108.0.5359 google-chrome\n",
      "[WDM] - There is no [win32] chromedriver for browser 108.0.5359 in cache\n",
      "[WDM] - About to download new driver from https://chromedriver.storage.googleapis.com/108.0.5359.71/chromedriver_win32.zip\n",
      "[WDM] - Driver has been saved in cache [C:\\Users\\mansi\\.wdm\\drivers\\chromedriver\\win32\\108.0.5359.71]\n",
      "c:\\users\\mansi\\anaconda3\\envs\\project\\lib\\site-packages\\ipykernel_launcher.py:4: DeprecationWarning: use options instead of chrome_options\n",
      "  after removing the cwd from sys.path.\n"
     ]
    }
   ],
   "source": [
    "chrome_options = Options()\n",
    "chrome_options.add_argument(\"--headless\")  \n",
    "chrome_options.add_argument('user-agent=Mozilla/5.0 (Windows NT 6.2; Win64; x64) AppleWebKit/537.36 (KHTML, like Gecko) Chrome/32.0.1667.0 Safari/537.36')    \n",
    "browser = webdriver.Chrome(ChromeDriverManager().install(),chrome_options=chrome_options) #ChromeDriverManager().install(),\n"
   ]
  },
  {
   "cell_type": "code",
   "execution_count": 4,
   "id": "5d8592a8",
   "metadata": {},
   "outputs": [],
   "source": [
    "url='https://www.google.com/search?q=hello+world&num=30&gl=JP'\n",
    "\n",
    "browser.get(url)\n",
    "soup = BeautifulSoup(browser.page_source,'html.parser') \n",
    "items = soup.find_all('div',{'class':'rc'})"
   ]
  },
  {
   "cell_type": "code",
   "execution_count": 5,
   "id": "53ab802a",
   "metadata": {},
   "outputs": [
    {
     "name": "stdout",
     "output_type": "stream",
     "text": [
      "counts : 0\n"
     ]
    }
   ],
   "source": [
    "print('counts : ' + str(len(items)))\n",
    "for each in items:\n",
    "    try:\n",
    "        print(each.find('div',{'class':'r'}).find('h3').text)\n",
    "        print(each.find('div',{'class':'s'}).find('span').text)\n",
    "        print('-------------------------------')\n",
    "    except:\n",
    "        pass"
   ]
  },
  {
   "cell_type": "code",
   "execution_count": 29,
   "id": "46f2198b",
   "metadata": {},
   "outputs": [
    {
     "name": "stdout",
     "output_type": "stream",
     "text": [
      "['Physical Optics Corporation', 'CREARE LLC']\n"
     ]
    }
   ],
   "source": [
    "df = pd.read_csv('NewResult.csv', usecols = ['recordid','company','occurence'])\n",
    "ip = df[df['occurence']==df['occurence'].max()]\n",
    "companies = list(ip['company'].unique())\n",
    "url = 'https://www.google.com/search?q='\n",
    "parser = etree.HTMLParser()\n",
    "print(companies)\n",
    "\n"
   ]
  },
  {
   "cell_type": "code",
   "execution_count": 37,
   "id": "3508f496",
   "metadata": {},
   "outputs": [
    {
     "name": "stdout",
     "output_type": "stream",
     "text": [
      "https://www.google.com/search?q=Physical+Optics+Corporation\n",
      "['Physical Optics Corporation', ' ', '4.5', ' ', ' ', '(4)', ' ', '\\nManufacturer in Torrance, California', 'Directions', 'Website', 'Address', ': ', '1845 W 205th St, Torrance, CA 90501', 'Hours', ': ', 'Opens soon ⋅ 6AM', 'Phone', ': ', '(310) 320-3088', 'See results about', 'Data Storage and Transfer | Mercury Systems', 'www.mrcy.com › products › data-storage-and-transfer', 'Built with open architectures and options for advanced encryption, our proven data solutions facilitate information exchange and extraction of big data for\\xa0...', 'Physical Optics Corporation | LinkedIn', 'www.linkedin.com › company › poc', 'As Physical Optics Corporation grew and spun off to become Intellisense Inc, to be acquired by Mercury Systems, be first known as Mission, and finally Systems\\xa0...', 'Physical Optics Corporation | SBIR.gov', 'www.sbir.gov › sbc › physical-optics-corporation-5', 'Physical Optics Corporation (POC) proposes to develop the Bare-Metal Hypervisor for Real-time Embedded Systems (HyperES). HyperES will integrate a customized\\xa0...', 'Mercury Systems to Acquire Physical Optics Corporation', 'www.globenewswire.com › news-release › 2020/12/07 › Mercury-Systems...', 'Dec 7, 2020', ' · ', 'Pursuant to the terms of the agreement, Mercury will acquire POC for an all-cash purchase price of $310 million, subject to net working capital\\xa0...', 'Physical Optics Corp - Company Profile and News - Bloomberg.com', 'www.bloomberg.com › profile › company', 'Physical Optics Corporation (POC) designs, develops, and manufactures mission critical subsystems. The Company offers mission data loaders, data transfer\\xa0...', 'ADDRESS: ', '1845 West 205th Street Torrance, CA 90501 United States', 'Intellisense Systems, Inc. (fka Physical Optics Corporation)', 'www.iridium.com › company › physical-optics-corporation', 'LOCATIONS. Headquarters. Intellisense Systems, Inc. 21041 S Western Avenue. Torrance, CA, 90501.', 'Physical Optics Corp | Military Aerospace', 'www.militaryaerospace.com › directory › company › physical-optics-corp', 'Mercury officials have signed an agreement to acquire Physical Optics, a designer of avionics and mission subsystems for defense applications.', 'Mercury Systems Closes $310M Buy of Physical Optics Corp.', 'www.govconwire.com › 2021/01 › mercury-systems-closes-310m-buy-of-...', 'Jan 4, 2021', ' · ', 'Mercury Systems (Nasdaq: MRCY) has agreed to purchase Torrance, California-based defense systems integrator Physical Optics Corp. for\\xa0...', 'Physical Optics Corp (@Physical_Optics) / Twitter', 'twitter.com › physical_optics', 'Physical Optics Corp. @Physical_Optics. Systems integrator of advanced technology serving the military, defense and commercial markets.', 'Physical Optics Corporation - Headquarters Locations, Products ...', 'www.cbinsights.com › company › physical-optics-corporation', 'Physical Optics Corporation (POC) designs, develops and manufactures avionics solutions for both military and commercial aircraft.']\n",
      "https://www.google.com/search?q=CREARE+LLC\n",
      "['Creare', 'www.creare.com', 'Creare creates customer value by solving critical engineering problems. We combine judgment with sophisticated analytical and experimental methods.', 'Careers', 'CONTACT', 'HISTORY', 'Capabilities', 'Creare LLC', ' ', '4.9', ' ', ' ', '(11)', ' ', '\\nEngineering consultant in Hanover, New Hampshire', 'Directions', 'Website', 'Address', ': ', '16 Great Hollow Rd, Hanover, NH 03755', 'Hours', ': ', 'Open now', 'Phone', ': ', '(603) 643-3800', 'CREARE LLC :: California (US) - OpenCorporates', 'opencorporates.com › companies › us_ca', 'CREARE LLC ; Incorporation Date: 19 August 2018 (over 4 years ago) ; Dissolution Date: 8 November 2021 ; Company Type: Limited Liability Company - CA ; Jurisdiction\\xa0...', 'Creare | LinkedIn', 'www.linkedin.com › company › creare', 'Creare develops innovative technology, products, and system-level solutions for clients ranging from NASA and DOD to biomedical and consumer products firms.', 'Creare - Overview, News & Competitors | ZoomInfo.com', 'www.zoominfo.com › creare-llc', 'Who is Creare. Creare, headquartered in Hanover, New Hampshire, and established in 1961, is an engineering research and development firm.', 'CREARE LLC - SBIR.gov', 'www.sbir.gov › sbirsearch › detail', 'Creare Inc. Hanover, NH 03755 Environmental Problem - Cutting fluids decrease the temperature of both the cutting tool and the part during the machining\\xa0...', \"Creare LLC | CSA Corporate Sustaining Member & Buyer's Guide ...\", 'csabg.org › contact_info › creare', 'Creare LLC is a leading innovator in the design and development of custom cryogenic components and systems, including vacuum systems, heat exchangers,\\xa0...', 'Creare LLC | New Hampshire Aerospace & Defense Export ...', 'nhadec.com › member › creare-llc', 'Creare LLC. About. Creare LLC is an engineering research and development firm located in Hanover, New Hampshire. Founded in 1961, we provide industrial and\\xa0...', 'CONTRACT to CREARE LLC | USAspending', 'www.usaspending.gov › award', 'View a summary page of this 2019 CONTRACT to CREARE LLC from the Department of Commerce.']\n"
     ]
    }
   ],
   "source": [
    "for c in companies:\n",
    "    final_url = url + '+'.join(c.split(' '))\n",
    "    print(final_url)\n",
    "    r = requests.get(final_url)\n",
    "    tree = etree.fromstring(r.text,parser,)\n",
    "    soup = BeautifulSoup(r.text,'html.parser') \n",
    "    re = tree.xpath('.//div[contains(@class,\"kCrYT\")]//text()')\n",
    "#     items = soup.find_all(lambda tag: tag.name=='div' and tag.get('class')=='SC7lYd')\n",
    "    print(re)\n",
    "#     for i in items:\n",
    "#         try:\n",
    "#             print(i)\n",
    "           \n",
    "#             print('-------------------------------')\n",
    "#         except:\n",
    "#             pass\n"
   ]
  },
  {
   "cell_type": "code",
   "execution_count": null,
   "id": "bdf82578",
   "metadata": {},
   "outputs": [],
   "source": []
  }
 ],
 "metadata": {
  "kernelspec": {
   "display_name": "Python 3",
   "language": "python",
   "name": "python3"
  },
  "language_info": {
   "codemirror_mode": {
    "name": "ipython",
    "version": 3
   },
   "file_extension": ".py",
   "mimetype": "text/x-python",
   "name": "python",
   "nbconvert_exporter": "python",
   "pygments_lexer": "ipython3",
   "version": "3.6.13"
  }
 },
 "nbformat": 4,
 "nbformat_minor": 5
}
