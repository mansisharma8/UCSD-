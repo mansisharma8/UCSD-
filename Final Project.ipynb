{
 "cells": [
  {
   "cell_type": "markdown",
   "id": "0a6a81c7",
   "metadata": {},
   "source": [
    "## Postgres Representation"
   ]
  },
  {
   "cell_type": "markdown",
   "id": "c94c5b4f",
   "metadata": {},
   "source": [
    "Importing python libraries"
   ]
  },
  {
   "cell_type": "code",
   "execution_count": 1,
   "id": "81ea9040",
   "metadata": {},
   "outputs": [],
   "source": [
    "import sqlalchemy\n",
    "import psycopg2 as ps\n",
    "import pandas.io.sql as sqlio\n",
    "import matplotlib.pyplot as plt"
   ]
  },
  {
   "cell_type": "markdown",
   "id": "3b1f3870",
   "metadata": {},
   "source": [
    "To create a connection between jupyter notebook and postgres"
   ]
  },
  {
   "cell_type": "code",
   "execution_count": 4,
   "id": "28bdec14",
   "metadata": {},
   "outputs": [],
   "source": [
    "conn2 = ps.connect(dbname = \"postgres\", user = \"ag_class\", password = \"WUcgdfQ1\", host = \"awesome-hw.sdsc.edu\", port = \"5432\")"
   ]
  },
  {
   "cell_type": "markdown",
   "id": "2f1008bf",
   "metadata": {},
   "source": [
    "sbir_award_data"
   ]
  },
  {
   "cell_type": "markdown",
   "id": "e53e11e2",
   "metadata": {},
   "source": [
    "Statistical Analysis"
   ]
  },
  {
   "cell_type": "markdown",
   "id": "06ab9664",
   "metadata": {},
   "source": [
    "Selecting Average of award amount, median and mode, min and max of award amount through the years"
   ]
  },
  {
   "cell_type": "code",
   "execution_count": null,
   "id": "4187774a",
   "metadata": {},
   "outputs": [],
   "source": [
    "sql = \"\"\" select distinct award_year, round(avg(award_amount) over (partition by award_year),2) as mean, percentile_cont(0.5) within group ( order by award_amount ) as median, mode() within group ( order by award_amount ) as mode, min(award_amount) over (partition by award_year) as min, max(award_amount) over (partition by award_year) as max from \"Result_12\" group by award_amount, award_year order by award_year;\n",
    "\"\"\""
   ]
  },
  {
   "cell_type": "code",
   "execution_count": null,
   "id": "fd5405b3",
   "metadata": {},
   "outputs": [],
   "source": [
    "df = sqlio.read_sql_query(sql,conn2)"
   ]
  },
  {
   "cell_type": "code",
   "execution_count": null,
   "id": "22264c57",
   "metadata": {},
   "outputs": [],
   "source": [
    "chart = df.plot(x=\"award_year\", y=[\"mean\", \"median\",\"mode\",\"min\",\"max\"], kind=\"bar\", figsize = (16,12))\n"
   ]
  },
  {
   "cell_type": "code",
   "execution_count": null,
   "id": "71a60e9d",
   "metadata": {},
   "outputs": [],
   "source": [
    "df"
   ]
  },
  {
   "cell_type": "code",
   "execution_count": null,
   "id": "5d00959a",
   "metadata": {},
   "outputs": [],
   "source": [
    "chart = df.plot(x=\"award_year\", y=[\"mean\", \"median\",\"mode\",\"min\",\"max\"], kind=\"line\", figsize = (16,12))\n"
   ]
  },
  {
   "cell_type": "markdown",
   "id": "c9271287",
   "metadata": {},
   "source": [
    "Finding each of the company's year wise awards and which one occurs the most"
   ]
  },
  {
   "cell_type": "code",
   "execution_count": null,
   "id": "e19a30b5",
   "metadata": {},
   "outputs": [],
   "source": [
    "sql = \"\"\"select sum(award_amount) over (partition by company order by award_amount) as total , company , award_year from \"Result_12\" group by award_year, company, award_amount order by company, award_year;\n",
    "\n",
    "select distinct c.company, c.occurence, c.\"Awarding_branches\" , R.recordid from company_occurence c, \"Result_12\" R where c.company = R.company\n",
    " \"\"\""
   ]
  },
  {
   "cell_type": "code",
   "execution_count": null,
   "id": "dee5db4d",
   "metadata": {},
   "outputs": [],
   "source": [
    "df = sqlio.read_sql_query(sql,conn2)"
   ]
  },
  {
   "cell_type": "code",
   "execution_count": null,
   "id": "443e4868",
   "metadata": {},
   "outputs": [],
   "source": [
    "df.plot(x=\"highestawardcompany\", y=[\"award_amount\",\"award_year\"], kind=\"line\", figsize = (18,10))\n"
   ]
  },
  {
   "cell_type": "markdown",
   "id": "c5e8d582",
   "metadata": {},
   "source": [
    "Finding companies getting the highest award"
   ]
  },
  {
   "cell_type": "code",
   "execution_count": null,
   "id": "4b309d69",
   "metadata": {},
   "outputs": [],
   "source": [
    "sql = \"\"\"select distinct first_value(company) over (partition by award_year order by award_amount) as highestAwardCompany, award_year , award_amount from \"Result_12\" group by award_year, award_amount, company order by award_year;\"\"\""
   ]
  },
  {
   "cell_type": "code",
   "execution_count": null,
   "id": "08c27c66",
   "metadata": {},
   "outputs": [],
   "source": [
    "df = sqlio.read_sql_query(sql,conn2)"
   ]
  },
  {
   "cell_type": "code",
   "execution_count": null,
   "id": "614695b2",
   "metadata": {},
   "outputs": [],
   "source": [
    "df.plot(x=\"highestawardcompany\", y=[\"award_amount\",\"award_year\"], kind=\"bar\", figsize = (18,10))\n"
   ]
  },
  {
   "cell_type": "markdown",
   "id": "81014af1",
   "metadata": {},
   "source": [
    "Finding the companies that are under-funded"
   ]
  },
  {
   "cell_type": "code",
   "execution_count": null,
   "id": "cec7653a",
   "metadata": {},
   "outputs": [],
   "source": [
    "sql = \"\"\"select company, sum from (select company, sum(award_amount) as sum from \"Result_12\"  group by cube ((company,award_amount)) having award_amount < 500 order by company, award_amount) a;\n",
    "\"\"\""
   ]
  },
  {
   "cell_type": "code",
   "execution_count": null,
   "id": "b5e83cda",
   "metadata": {},
   "outputs": [],
   "source": [
    "df = sqlio.read_sql_query(sql,conn2)"
   ]
  },
  {
   "cell_type": "code",
   "execution_count": null,
   "id": "8cdd2e98",
   "metadata": {},
   "outputs": [],
   "source": [
    "df.plot(x=\"company\", y=\"sum\", kind=\"bar\", figsize = (18,10))\n"
   ]
  },
  {
   "cell_type": "markdown",
   "id": "7999ae35",
   "metadata": {},
   "source": [
    "patentdb"
   ]
  },
  {
   "cell_type": "markdown",
   "id": "192ad22d",
   "metadata": {},
   "source": [
    "Finding the number of patents under each technology "
   ]
  },
  {
   "cell_type": "code",
   "execution_count": null,
   "id": "2e44d9a0",
   "metadata": {},
   "outputs": [],
   "source": [
    "sql = \"\"\"select  (string_to_array((string_to_array(translate(classname, '[{][}]', ''), ';'))[1], ','))[1] as techword, patentid, translate(assignee_name_current,'{}','') as currentCompany from \"patentdb (1)\"\n",
    "\"\"\"\n",
    "df = sqlio.read_sql_query(sql,conn2)\n",
    "df = df[df[\"techword\"].notna()]\n",
    "d = df.groupby('techword')['patentid']\n",
    "d = df.groupby('techword')['patentid'].nunique()\n",
    "d= d.to_frame()\n",
    "r = d[d.patentid != 113]\n",
    "dataframe = r\n",
    "techword = ['CHEMISTRY', 'ELECTRICITY', 'FIXED CONSTRUCTIONS', 'HUMAN NECESSITIES', 'MECHANICAL ENGINEERING', 'PERFORMING OPERATIONS','PHYSICS','TEXTILES']\n",
    "dataframe['techword'] = techword\n",
    "dfN = dataframe[['patentid','techword']]\n",
    "d.plot(x=\"techword\", y=\"patentid\", kind=\"bar\", figsize = (20,10))"
   ]
  },
  {
   "cell_type": "code",
   "execution_count": null,
   "id": "58df1b48",
   "metadata": {},
   "outputs": [],
   "source": []
  },
  {
   "cell_type": "code",
   "execution_count": null,
   "id": "9975ce56",
   "metadata": {},
   "outputs": [],
   "source": []
  },
  {
   "cell_type": "code",
   "execution_count": null,
   "id": "87015e50",
   "metadata": {},
   "outputs": [],
   "source": [
    "\n",
    "\n"
   ]
  },
  {
   "cell_type": "code",
   "execution_count": null,
   "id": "37e86d67",
   "metadata": {},
   "outputs": [],
   "source": []
  },
  {
   "cell_type": "code",
   "execution_count": null,
   "id": "ec6a15fe",
   "metadata": {},
   "outputs": [],
   "source": []
  },
  {
   "cell_type": "code",
   "execution_count": null,
   "id": "8726146f",
   "metadata": {},
   "outputs": [],
   "source": []
  },
  {
   "cell_type": "code",
   "execution_count": null,
   "id": "cf49db4b",
   "metadata": {},
   "outputs": [],
   "source": []
  },
  {
   "cell_type": "code",
   "execution_count": null,
   "id": "b6762ba9",
   "metadata": {},
   "outputs": [],
   "source": [
    "\n"
   ]
  },
  {
   "cell_type": "code",
   "execution_count": null,
   "id": "8b4243d0",
   "metadata": {},
   "outputs": [],
   "source": [
    "dfN.plot(x=\"techword\", y=\"patentid\", kind=\"bar\", figsize = (20,10))\n"
   ]
  },
  {
   "cell_type": "markdown",
   "id": "fa524c7c",
   "metadata": {},
   "source": [
    "Finding which companies use which technology"
   ]
  },
  {
   "cell_type": "code",
   "execution_count": null,
   "id": "7c69af0e",
   "metadata": {},
   "outputs": [],
   "source": [
    "sql =\"\"\"with a as (\n",
    "select  (string_to_array((string_to_array(translate(classname, '[{][}]', ''), ';'))[1], ','))[1] as techword, patentid, translate(assignee_name_current,'{}','') as currentCompany from \"patentdb (1)\"\n",
    "\n",
    ")\n",
    "select distinct(currentCompany) as comp, techword from a where techword is not null and currentCompany is not null group by techword,currentCompany ;\n",
    "\"\"\""
   ]
  },
  {
   "cell_type": "code",
   "execution_count": null,
   "id": "0c5d66b4",
   "metadata": {},
   "outputs": [],
   "source": [
    "df = sqlio.read_sql_query(sql,conn2)"
   ]
  },
  {
   "cell_type": "code",
   "execution_count": null,
   "id": "bfbcf7c2",
   "metadata": {},
   "outputs": [],
   "source": [
    "df=df.groupby(['comp','techword']).size()\n",
    "df=df.unstack()\n",
    "df.plot(kind='line', figsize = (20,10))"
   ]
  },
  {
   "cell_type": "code",
   "execution_count": null,
   "id": "158cb6e4",
   "metadata": {},
   "outputs": [],
   "source": [
    "df=df.groupby(['techword','comp']).size()\n",
    "df=df.unstack()\n",
    "df.plot(kind='bar', figsize = (20,10))\n"
   ]
  },
  {
   "cell_type": "code",
   "execution_count": 5,
   "id": "cde1db5d",
   "metadata": {},
   "outputs": [
    {
     "data": {
      "text/plain": [
       "<AxesSubplot:xlabel='award_year'>"
      ]
     },
     "execution_count": 5,
     "metadata": {},
     "output_type": "execute_result"
    },
    {
     "data": {
      "image/png": "[encoded data removed]",
      "text/plain": [
       "<Figure size 1296x720 with 1 Axes>"
      ]
     },
     "metadata": {
      "needs_background": "light"
     },
     "output_type": "display_data"
    }
   ],
   "source": [
    "sql = \"\"\"with a as (\n",
    "select sum(award_amount) as sum, award_year, company\n",
    "           from \"NewResult\"\n",
    "           GROUP BY company, award_year),\n",
    "\n",
    "    trend_line as(\n",
    "        select slope,\n",
    "               y_max - x_max * slope as intercept\n",
    "        from(\n",
    "            select\n",
    "                coalesce((nullif(sum((award_year-x_bar)*(sum-y_bar)),0)/nullif(sum((award_year-x_bar)*(award_year-x_bar)),0)),0) as slope,\n",
    "                max(x_bar) as x_max,\n",
    "                max(y_bar) as y_max\n",
    "            from(\n",
    "                select award_year, avg(award_year) over() as x_bar,\n",
    "                       sum, avg(sum) over() as y_bar\n",
    "                from a\n",
    "                )data1\n",
    "            )data2\n",
    "    )\n",
    "select a.*,\n",
    "       (a.award_year * (select slope from trend_line)+(select intercept from trend_line)) as trend_line\n",
    "from a;\"\"\"\n",
    "df = sqlio.read_sql_query(sql,conn2)\n",
    "df.plot(x=\"award_year\", y=\"trend_line\", figsize = (18,10))\n"
   ]
  },
  {
   "cell_type": "code",
   "execution_count": 7,
   "id": "33b2da06",
   "metadata": {},
   "outputs": [
    {
     "data": {
      "text/plain": [
       "<AxesSubplot:xlabel='award_year'>"
      ]
     },
     "execution_count": 7,
     "metadata": {},
     "output_type": "execute_result"
    },
    {
     "data": {
      "image/png": "[encoded data removed]",
      "text/plain": [
       "<Figure size 360x360 with 1 Axes>"
      ]
     },
     "metadata": {
      "needs_background": "light"
     },
     "output_type": "display_data"
    }
   ],
   "source": [
    "df.plot(x=\"award_year\", y=\"trend_line\", figsize = (5,5))\n"
   ]
  },
  {
   "cell_type": "code",
   "execution_count": null,
   "id": "e46bb3c0",
   "metadata": {},
   "outputs": [],
   "source": [
    "df = sqlio.read_sql_query(sql,conn2)"
   ]
  },
  {
   "cell_type": "code",
   "execution_count": null,
   "id": "c868a6c8",
   "metadata": {},
   "outputs": [],
   "source": [
    "df.head(5)"
   ]
  },
  {
   "cell_type": "code",
   "execution_count": null,
   "id": "4d0e588f",
   "metadata": {},
   "outputs": [],
   "source": [
    "df.plot(x=\"award_year\", y=\"trend_line\", kind=\"line\", figsize = (18,10))\n"
   ]
  },
  {
   "cell_type": "code",
   "execution_count": null,
   "id": "6533ea43",
   "metadata": {},
   "outputs": [],
   "source": []
  }
 ],
 "metadata": {
  "kernelspec": {
   "display_name": "Python 3",
   "language": "python",
   "name": "python3"
  },
  "language_info": {
   "codemirror_mode": {
    "name": "ipython",
    "version": 3
   },
   "file_extension": ".py",
   "mimetype": "text/x-python",
   "name": "python",
   "nbconvert_exporter": "python",
   "pygments_lexer": "ipython3",
   "version": "3.6.13"
  }
 },
 "nbformat": 4,
 "nbformat_minor": 5
}
